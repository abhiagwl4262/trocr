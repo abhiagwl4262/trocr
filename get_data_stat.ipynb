{
 "cells": [
  {
   "cell_type": "code",
   "execution_count": 7,
   "metadata": {},
   "outputs": [],
   "source": [
    "import os, shutil\n",
    "from PIL import Image\n",
    "import numpy as np"
   ]
  },
  {
   "cell_type": "code",
   "execution_count": 8,
   "metadata": {},
   "outputs": [
    {
     "name": "stdout",
     "output_type": "stream",
     "text": [
      "45721\n"
     ]
    }
   ],
   "source": [
    "data_dir = \"/home/ubuntu/images_downloader/images\"\n",
    "output_dir = \"task2\"\n",
    "os.makedirs(output_dir, exist_ok=True)\n",
    "all_images = []\n",
    "for path, subdirs, files in os.walk(data_dir):\n",
    "    for name in files:\n",
    "        all_images.append(os.path.join(path, name))\n",
    "\n",
    "print(len(all_images))"
   ]
  },
  {
   "cell_type": "code",
   "execution_count": 9,
   "metadata": {},
   "outputs": [],
   "source": [
    "widths = []\n",
    "heights = []\n",
    "ars = []\n",
    "suspects = []\n",
    "for img_path in all_images:\n",
    "    label = img_path.split(\"/\")[-1].split(\"_\")[-1].split(\".\")[0]\n",
    "    if not len(label) < 5:\n",
    "        img = Image.open(img_path)\n",
    "        w = img.width\n",
    "        h = img.height\n",
    "        ar = w/float(h)\n",
    "        if w < 400 or w > 800 or h < 60 or h > 130 or ar < 4 or ar > 9:\n",
    "            suspects.append(img_path)\n",
    "        else:\n",
    "            widths.append(w)\n",
    "            heights.append(h)\n",
    "            ars.append(ar)\n",
    "    else:\n",
    "        suspects.append(img_path)"
   ]
  },
  {
   "cell_type": "code",
   "execution_count": 10,
   "metadata": {},
   "outputs": [
    {
     "name": "stdout",
     "output_type": "stream",
     "text": [
      "525.627693297193\n",
      "402\n",
      "800\n",
      "87.8480498001562\n",
      "64\n",
      "130\n",
      "6.060123395346125\n",
      "4.0\n",
      "8.985074626865671\n"
     ]
    }
   ],
   "source": [
    "widths = np.array(widths)\n",
    "heights = np.array(heights)\n",
    "ars = np.array(ars)\n",
    "\n",
    "print(np.mean(widths))\n",
    "print(np.min(widths))\n",
    "print(np.max(widths))\n",
    "\n",
    "print(np.mean(heights))\n",
    "print(np.min(heights))\n",
    "print(np.max(heights))\n",
    "\n",
    "print(np.mean(ars))\n",
    "print(np.min(ars))\n",
    "print(np.max(ars))"
   ]
  },
  {
   "cell_type": "code",
   "execution_count": 11,
   "metadata": {},
   "outputs": [
    {
     "name": "stdout",
     "output_type": "stream",
     "text": [
      "2187\n"
     ]
    }
   ],
   "source": [
    "print(len(suspects))\n",
    "suspect_path = \"/home/ubuntu/images_downloader/suspects\"\n",
    "os.makedirs(suspect_path, exist_ok=True)\n",
    "for suspect in suspects:\n",
    "    shutil.copy(suspect, os.path.join(suspect_path, suspect.split(\"/\")[-1]))"
   ]
  }
 ],
 "metadata": {
  "kernelspec": {
   "display_name": "trocr",
   "language": "python",
   "name": "python3"
  },
  "language_info": {
   "codemirror_mode": {
    "name": "ipython",
    "version": 3
   },
   "file_extension": ".py",
   "mimetype": "text/x-python",
   "name": "python",
   "nbconvert_exporter": "python",
   "pygments_lexer": "ipython3",
   "version": "3.8.17"
  },
  "orig_nbformat": 4
 },
 "nbformat": 4,
 "nbformat_minor": 2
}
