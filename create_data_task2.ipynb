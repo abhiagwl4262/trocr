{
 "cells": [
  {
   "cell_type": "code",
   "execution_count": 34,
   "metadata": {},
   "outputs": [],
   "source": [
    "import os\n",
    "import random"
   ]
  },
  {
   "cell_type": "code",
   "execution_count": 35,
   "metadata": {},
   "outputs": [],
   "source": [
    "data_dir = \"/home/ubuntu/images_downloader/images\"\n",
    "output_dir = \"task2\"\n",
    "os.makedirs(output_dir, exist_ok=True)\n",
    "all_images = []\n",
    "for path, subdirs, files in os.walk(data_dir):\n",
    "    for name in files:\n",
    "        all_images.append(os.path.join(path, name))\n"
   ]
  },
  {
   "cell_type": "code",
   "execution_count": 36,
   "metadata": {},
   "outputs": [
    {
     "name": "stdout",
     "output_type": "stream",
     "text": [
      "num of train samples :  36752\n",
      "num of val samples :  9188\n"
     ]
    }
   ],
   "source": [
    "total =  len(all_images)\n",
    "nval  = int(total*0.20)\n",
    "val_samples = random.sample(all_images, nval)\n",
    "train_samples = all_images\n",
    "for img in val_samples:\n",
    "    train_samples.remove(img)\n",
    "print(\"num of train samples : \", len(train_samples))\n",
    "print(\"num of val samples : \", len(val_samples))"
   ]
  },
  {
   "cell_type": "code",
   "execution_count": 37,
   "metadata": {},
   "outputs": [
    {
     "data": {
      "text/plain": [
       "'/home/ubuntu/images_downloader/images/hw phone/1/142245931__0782930340.png'"
      ]
     },
     "execution_count": 37,
     "metadata": {},
     "output_type": "execute_result"
    }
   ],
   "source": [
    "train_samples[0]"
   ]
  },
  {
   "cell_type": "code",
   "execution_count": 38,
   "metadata": {},
   "outputs": [],
   "source": [
    "f = open(\"task2/gt_train.txt\", \"w+\")\n",
    "for i, img_path in enumerate(train_samples):\n",
    "        label = img_path.split(\"/\")[-1].split(\"_\")[-1].split(\".\")[0]\n",
    "        if not len(label) < 5:\n",
    "            line = \"\\t\".join([img_path, label]) + \"\\n\"\n",
    "            f.write(line)\n",
    "f.close()"
   ]
  },
  {
   "cell_type": "code",
   "execution_count": 39,
   "metadata": {},
   "outputs": [],
   "source": [
    "f = open(\"task2/gt_valid.txt\", \"w+\")\n",
    "for i, img_path in enumerate(val_samples):\n",
    "        label = img_path.split(\"/\")[-1].split(\"_\")[-1].split(\".\")[0]\n",
    "        # img_path = img_path.replace(\"/home/ubuntu/images_downloader/images\", \"\")\n",
    "        if not len(label) < 5:\n",
    "            line = \"\\t\".join([img_path, label]) + \"\\n\"\n",
    "            f.write(line)\n",
    "f.close()"
   ]
  }
 ],
 "metadata": {
  "kernelspec": {
   "display_name": "Python 3",
   "language": "python",
   "name": "python3"
  },
  "language_info": {
   "codemirror_mode": {
    "name": "ipython",
    "version": 3
   },
   "file_extension": ".py",
   "mimetype": "text/x-python",
   "name": "python",
   "nbconvert_exporter": "python",
   "pygments_lexer": "ipython3",
   "version": "3.8.10"
  },
  "orig_nbformat": 4
 },
 "nbformat": 4,
 "nbformat_minor": 2
}
